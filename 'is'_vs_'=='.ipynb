{
  "nbformat": 4,
  "nbformat_minor": 0,
  "metadata": {
    "colab": {
      "name": "'is' vs '=='.ipynb",
      "version": "0.3.2",
      "provenance": [],
      "collapsed_sections": [],
      "include_colab_link": true
    },
    "kernelspec": {
      "display_name": "Python 3",
      "language": "python",
      "name": "python3"
    }
  },
  "cells": [
    {
      "cell_type": "markdown",
      "metadata": {
        "id": "view-in-github",
        "colab_type": "text"
      },
      "source": [
        "<a href=\"https://colab.research.google.com/github/paulgureghian/Comparison_Operators_in_Python/blob/master/'is'_vs_'%3D%3D'.ipynb\" target=\"_parent\"><img src=\"https://colab.research.google.com/assets/colab-badge.svg\" alt=\"Open In Colab\"/></a>"
      ]
    },
    {
      "metadata": {
        "id": "d7HiS3PlYv6c",
        "colab_type": "text"
      },
      "cell_type": "markdown",
      "source": [
        "### **Created by Paul A. Gureghian in Mar 2019.**"
      ]
    },
    {
      "metadata": {
        "id": "iBosIFG0ZGqo",
        "colab_type": "text"
      },
      "cell_type": "markdown",
      "source": [
        "# • \"is\" expressions evaluate to True if two \n",
        "#   variables point to the same object\n",
        "\n",
        "# • \"==\" evaluates to True if the objects \n",
        "# referred to by the variables are equal"
      ]
    },
    {
      "metadata": {
        "id": "31-N7YCCKV5c",
        "colab_type": "code",
        "colab": {
          "base_uri": "https://localhost:8080/",
          "height": 34
        },
        "outputId": "ac238382-5bb6-4609-ade2-d70cdbdbf8ad"
      },
      "cell_type": "code",
      "source": [
        "### \"is\" vs \"==\"\n",
        "\n",
        "a = [1, 2, 3]\n",
        "b = a\n",
        "\n",
        "a is b"
      ],
      "execution_count": 7,
      "outputs": [
        {
          "output_type": "execute_result",
          "data": {
            "text/plain": [
              "True"
            ]
          },
          "metadata": {
            "tags": []
          },
          "execution_count": 7
        }
      ]
    },
    {
      "metadata": {
        "id": "bx0uNpQHKV5c",
        "colab_type": "code",
        "colab": {
          "base_uri": "https://localhost:8080/",
          "height": 34
        },
        "outputId": "03899644-8d55-46d0-edd7-e2c9257c65df"
      },
      "cell_type": "code",
      "source": [
        "### Is 'a' equal to 'b' \n",
        "a == b"
      ],
      "execution_count": 8,
      "outputs": [
        {
          "output_type": "execute_result",
          "data": {
            "text/plain": [
              "True"
            ]
          },
          "metadata": {
            "tags": []
          },
          "execution_count": 8
        }
      ]
    },
    {
      "metadata": {
        "id": "VRgHlJw0KV5r",
        "colab_type": "code",
        "colab": {
          "base_uri": "https://localhost:8080/",
          "height": 34
        },
        "outputId": "21cbafca-831f-443b-9633-8519af0397cc"
      },
      "cell_type": "code",
      "source": [
        "### Convert 'a' to a list(), then check for equality to the original list \n",
        "c = list(a)\n",
        "\n",
        "a == c"
      ],
      "execution_count": 9,
      "outputs": [
        {
          "output_type": "execute_result",
          "data": {
            "text/plain": [
              "True"
            ]
          },
          "metadata": {
            "tags": []
          },
          "execution_count": 9
        }
      ]
    },
    {
      "metadata": {
        "id": "QRUqdyyOKV5r",
        "colab_type": "code",
        "colab": {
          "base_uri": "https://localhost:8080/",
          "height": 34
        },
        "outputId": "4e897c0e-f8bc-4d22-f2db-ed735e258003"
      },
      "cell_type": "code",
      "source": [
        "### Is 'a' the same as 'c'\n",
        "a is c"
      ],
      "execution_count": 10,
      "outputs": [
        {
          "output_type": "execute_result",
          "data": {
            "text/plain": [
              "False"
            ]
          },
          "metadata": {
            "tags": []
          },
          "execution_count": 10
        }
      ]
    }
  ]
}